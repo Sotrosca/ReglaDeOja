{
  "nbformat": 4,
  "nbformat_minor": 0,
  "metadata": {
    "colab": {
      "name": "Untitled3.ipynb",
      "version": "0.3.2",
      "provenance": [],
      "include_colab_link": true
    },
    "kernelspec": {
      "name": "python3",
      "display_name": "Python 3"
    }
  },
  "cells": [
    {
      "cell_type": "markdown",
      "metadata": {
        "id": "view-in-github",
        "colab_type": "text"
      },
      "source": [
        "<a href=\"https://colab.research.google.com/github/Sotrosca/ReglaDeOja/blob/master/regla_de_oja.ipynb\" target=\"_parent\"><img src=\"https://colab.research.google.com/assets/colab-badge.svg\" alt=\"Open In Colab\"/></a>"
      ]
    },
    {
      "cell_type": "code",
      "metadata": {
        "id": "1LLe2x2YeP2g",
        "colab_type": "code",
        "colab": {}
      },
      "source": [
        "import numpy as np\n",
        "import matplotlib.pyplot as plt"
      ],
      "execution_count": 0,
      "outputs": []
    },
    {
      "cell_type": "code",
      "metadata": {
        "id": "0OKW5dfCiV8P",
        "colab_type": "code",
        "colab": {}
      },
      "source": [
        "datosEjeX = np.random.rand(1, 400) * 2 - 1\n",
        "datosEjeY = np.random.rand(1, 400) / 1000 - (0.5/1000)\n",
        "#datosEjeY += datosEjeX\n",
        "datos = []\n",
        "for i in range(datosEjeX.shape[1]):\n",
        "  datos.append([datosEjeX[0][i], datosEjeY[0][i]])\n",
        "  \n",
        "datos = np.array(datos)\n",
        "\n",
        "plt.plot(datos[:, 0], datos[:, 1] , '.')\n",
        "plt.show()\n"
      ],
      "execution_count": 0,
      "outputs": []
    },
    {
      "cell_type": "code",
      "metadata": {
        "id": "mQlNieJyjDRa",
        "colab_type": "code",
        "colab": {}
      },
      "source": [
        "w_save =[]\n",
        "\n",
        "learningRate = 0.1\n",
        "\n",
        "epsilon = 0.00000001"
      ],
      "execution_count": 0,
      "outputs": []
    },
    {
      "cell_type": "code",
      "metadata": {
        "id": "crT5tzn1mbXX",
        "colab_type": "code",
        "colab": {}
      },
      "source": [
        "def train(datos):\n",
        "    w = np.random.rand(1, 2) * 2 - 1\n",
        "    i = 1\n",
        "    for dato in datos:\n",
        "      w_save.append(w)\n",
        "      dato = dato[:, np.newaxis]\n",
        "      output = np.dot(w, dato)\n",
        "      \n",
        "      w_aux = w\n",
        "\n",
        "      w = w + learningRate * output[0][0] * (dato.T - output[0][0] * w)\n",
        "\n",
        "      i = i + 1\n",
        "      \n",
        "      \n",
        "      if (abs(np.mean(w_aux - w))  < epsilon):\n",
        "        print(abs(np.mean(w_aux - w))) \n",
        "        return w, i;\n",
        "      \n",
        "    return w , len(datos)"
      ],
      "execution_count": 0,
      "outputs": []
    },
    {
      "cell_type": "code",
      "metadata": {
        "id": "Lu4irgG-orf4",
        "colab_type": "code",
        "colab": {}
      },
      "source": [
        "w, i = train()"
      ],
      "execution_count": 0,
      "outputs": []
    },
    {
      "cell_type": "code",
      "metadata": {
        "id": "xDIfwNpdr-7F",
        "colab_type": "code",
        "colab": {}
      },
      "source": [
        "print(i)"
      ],
      "execution_count": 0,
      "outputs": []
    },
    {
      "cell_type": "code",
      "metadata": {
        "id": "frQM2LIJwDNM",
        "colab_type": "code",
        "colab": {}
      },
      "source": [
        "print(w)"
      ],
      "execution_count": 0,
      "outputs": []
    },
    {
      "cell_type": "code",
      "metadata": {
        "id": "peCvCs4-4lvr",
        "colab_type": "code",
        "colab": {}
      },
      "source": [
        "w_save = np.array(w_save)\n",
        "print(w_save.shape)"
      ],
      "execution_count": 0,
      "outputs": []
    },
    {
      "cell_type": "code",
      "metadata": {
        "id": "YQoUePMSxW0R",
        "colab_type": "code",
        "outputId": "29f2b56d-7cb9-4115-d18a-f7e14272c3f8",
        "colab": {
          "base_uri": "https://localhost:8080/",
          "height": 270
        }
      },
      "source": [
        "plt.plot(datos[:, 0], datos[:, 1] , '.')\n",
        "plt.plot(w[0][0] * 5, w[0][1] * 5, 'o')\n",
        "plt.plot(w_save[0][:, 0] * 2, w_save[0][:, 1] * 2, 'o')\n",
        "plt.axis('equal')\n",
        "plt.show()"
      ],
      "execution_count": 98,
      "outputs": [
        {
          "output_type": "display_data",
          "data": {
            "image/png": "[encoded data removed]",
            "text/plain": [
              "<Figure size 432x288 with 1 Axes>"
            ]
          },
          "metadata": {
            "tags": []
          }
        }
      ]
    },
    {
      "cell_type": "code",
      "metadata": {
        "id": "y6mfzdX5Onp8",
        "colab_type": "code",
        "colab": {
          "base_uri": "https://localhost:8080/",
          "height": 269
        },
        "outputId": "b5d9b52d-6e3d-465e-9c8e-300e5f90405e"
      },
      "source": [
        "datosX_1 = np.random.normal(0, 1/5, 1000) + 1\n",
        "datosY_1 = np.random.normal(0, 1/5, 1000) + 1\n",
        "\n",
        "datosX_2 = np.random.normal(0, 1/5, 1000) - 1\n",
        "datosY_2 = np.random.normal(0, 1/5, 1000) - 1\n",
        "\n",
        "datosX = np.concatenate((datosX_1, datosX_2))\n",
        "datosY = np.concatenate((datosY_1, datosY_2))\n",
        "\n",
        "datos=[]\n",
        "\n",
        "for i in range(datosX.shape[0]):\n",
        "  datos.append([datosX[i], datosY[i]])\n",
        "  \n",
        "datos = np.array(datos)\n",
        "\n",
        "plt.plot(datos[:, 0], datos[:, 1] , '.')\n",
        "plt.axis('equal')\n",
        "plt.show()\n"
      ],
      "execution_count": 84,
      "outputs": [
        {
          "output_type": "display_data",
          "data": {
            "image/png": "[encoded data removed]",
            "text/plain": [
              "<Figure size 432x288 with 1 Axes>"
            ]
          },
          "metadata": {
            "tags": []
          }
        }
      ]
    },
    {
      "cell_type": "code",
      "metadata": {
        "id": "og0gJtOxUKHy",
        "colab_type": "code",
        "colab": {}
      },
      "source": [
        "w, i = train(datos)"
      ],
      "execution_count": 0,
      "outputs": []
    },
    {
      "cell_type": "code",
      "metadata": {
        "id": "xQjShfMAYSV_",
        "colab_type": "code",
        "colab": {
          "base_uri": "https://localhost:8080/",
          "height": 35
        },
        "outputId": "d062f706-8852-4b40-d650-ef0dd790d45b"
      },
      "source": [
        "print(i, w)"
      ],
      "execution_count": 86,
      "outputs": [
        {
          "output_type": "stream",
          "text": [
            "2000 [[0.70531824 0.70948132]]\n"
          ],
          "name": "stdout"
        }
      ]
    },
    {
      "cell_type": "code",
      "metadata": {
        "id": "ldlYzuEIA2nK",
        "colab_type": "code",
        "colab": {}
      },
      "source": [
        "def predict(entrada):\n",
        "  output = np.dot(w, entrada)\n",
        "  return output"
      ],
      "execution_count": 0,
      "outputs": []
    },
    {
      "cell_type": "code",
      "metadata": {
        "id": "WVkpiRKOBtAM",
        "colab_type": "code",
        "colab": {}
      },
      "source": [
        "for i in range(1000, 1100):\n",
        "  print(datos[i][0])\n",
        "  print(predict(datos[i]))\n",
        "  print(\"---------\")"
      ],
      "execution_count": 0,
      "outputs": []
    },
    {
      "cell_type": "code",
      "metadata": {
        "id": "Wtz37qhJZxRj",
        "colab_type": "code",
        "colab": {
          "base_uri": "https://localhost:8080/",
          "height": 91
        },
        "outputId": "adfc06d1-628e-4625-a889-3468dedfa233"
      },
      "source": [
        "print(predict([1,1]))\n",
        "print(predict([-1,-1]))\n",
        "print(predict([-1,1]))\n",
        "print(predict([1,0]))"
      ],
      "execution_count": 106,
      "outputs": [
        {
          "output_type": "stream",
          "text": [
            "[-1.41479955]\n",
            "[1.41479955]\n",
            "[-0.00416308]\n",
            "[-0.70531824]\n"
          ],
          "name": "stdout"
        }
      ]
    }
  ]
}