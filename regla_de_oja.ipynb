{
  "nbformat": 4,
  "nbformat_minor": 0,
  "metadata": {
    "colab": {
      "name": "Untitled3.ipynb",
      "version": "0.3.2",
      "provenance": [],
      "include_colab_link": true
    },
    "kernelspec": {
      "name": "python3",
      "display_name": "Python 3"
    }
  },
  "cells": [
    {
      "cell_type": "markdown",
      "metadata": {
        "id": "view-in-github",
        "colab_type": "text"
      },
      "source": [
        "<a href=\"https://colab.research.google.com/github/Sotrosca/ReglaDeOja/blob/master/regla_de_oja.ipynb\" target=\"_parent\"><img src=\"https://colab.research.google.com/assets/colab-badge.svg\" alt=\"Open In Colab\"/></a>"
      ]
    },
    {
      "cell_type": "code",
      "metadata": {
        "id": "1LLe2x2YeP2g",
        "colab_type": "code",
        "colab": {}
      },
      "source": [
        "import numpy as np\n",
        "import matplotlib.pyplot as plt"
      ],
      "execution_count": 0,
      "outputs": []
    },
    {
      "cell_type": "code",
      "metadata": {
        "id": "0OKW5dfCiV8P",
        "colab_type": "code",
        "colab": {
          "base_uri": "https://localhost:8080/",
          "height": 269
        },
        "outputId": "1e41e7d2-510a-4f9e-d8d8-5917176ad2de"
      },
      "source": [
        "datosEjeX = np.random.rand(1, 400) * 2 - 1\n",
        "datosEjeY = np.random.rand(1, 400) / 1000 - (0.5/1000)\n",
        "datos = []\n",
        "for i in range(datosEjeX.shape[1]):\n",
        "  datos.append([datosEjeX[0][i], datosEjeY[0][i]])\n",
        "  \n",
        "datos = np.array(datos)\n",
        "\n",
        "plt.plot(datos[:, 0], datos[:, 1] , '*')\n",
        "plt.show()\n"
      ],
      "execution_count": 181,
      "outputs": [
        {
          "output_type": "display_data",
          "data": {
            "image/png": "[encoded data removed]",
            "text/plain": [
              "<Figure size 432x288 with 1 Axes>"
            ]
          },
          "metadata": {
            "tags": []
          }
        }
      ]
    },
    {
      "cell_type": "code",
      "metadata": {
        "id": "mQlNieJyjDRa",
        "colab_type": "code",
        "colab": {}
      },
      "source": [
        "w_save =[]\n",
        "\n",
        "learningRate = 0.1\n",
        "\n",
        "epsilon = 0.00000001"
      ],
      "execution_count": 0,
      "outputs": []
    },
    {
      "cell_type": "code",
      "metadata": {
        "id": "crT5tzn1mbXX",
        "colab_type": "code",
        "colab": {}
      },
      "source": [
        "def train():\n",
        "    w = np.random.rand(1, 2) * 2 - 1\n",
        "    i = 1\n",
        "    for dato in datos:\n",
        "      w_save.append(w)\n",
        "      dato = dato[:, np.newaxis]\n",
        "      output = np.dot(w, dato)\n",
        "      print(output)\n",
        "\n",
        "      w_aux = w\n",
        "\n",
        "      w = w + learningRate * output[0][0] * (dato.T - output[0][0] * w)\n",
        "\n",
        "      i = i + 1\n",
        "      \n",
        "      \n",
        "      if (abs(np.mean(w_aux - w))  < epsilon):\n",
        "        print(abs(np.mean(w_aux - w))) \n",
        "        return w, i;"
      ],
      "execution_count": 0,
      "outputs": []
    },
    {
      "cell_type": "code",
      "metadata": {
        "id": "Lu4irgG-orf4",
        "colab_type": "code",
        "colab": {
          "base_uri": "https://localhost:8080/",
          "height": 1406
        },
        "outputId": "7a675deb-b843-4180-be20-21a325e4b4af"
      },
      "source": [
        "w, i = train()"
      ],
      "execution_count": 275,
      "outputs": [
        {
          "output_type": "stream",
          "text": [
            "[[0.60440782]]\n",
            "[[0.56771243]]\n",
            "[[0.83124424]]\n",
            "[[-0.8767188]]\n",
            "[[0.83429686]]\n",
            "[[-0.83350976]]\n",
            "[[0.80071131]]\n",
            "[[-0.30583102]]\n",
            "[[-0.96644613]]\n",
            "[[-0.75532863]]\n",
            "[[0.31723509]]\n",
            "[[-0.51410584]]\n",
            "[[0.3746015]]\n",
            "[[-0.16679544]]\n",
            "[[0.80743599]]\n",
            "[[0.13729812]]\n",
            "[[-0.96763261]]\n",
            "[[-0.75342791]]\n",
            "[[0.81839203]]\n",
            "[[0.94814934]]\n",
            "[[-0.94755149]]\n",
            "[[0.63582061]]\n",
            "[[-0.4858556]]\n",
            "[[-0.76828458]]\n",
            "[[-0.90393249]]\n",
            "[[-0.62962668]]\n",
            "[[-0.18674209]]\n",
            "[[0.00187082]]\n",
            "[[0.52041144]]\n",
            "[[0.07788667]]\n",
            "[[0.38794481]]\n",
            "[[0.8026432]]\n",
            "[[-0.90745773]]\n",
            "[[0.64827035]]\n",
            "[[-0.96730464]]\n",
            "[[-0.86517685]]\n",
            "[[0.7028702]]\n",
            "[[-0.89903695]]\n",
            "[[0.69530871]]\n",
            "[[0.38636312]]\n",
            "[[0.29848217]]\n",
            "[[-0.70784971]]\n",
            "[[-0.46814388]]\n",
            "[[0.15606887]]\n",
            "[[0.89763872]]\n",
            "[[0.59044226]]\n",
            "[[0.0476632]]\n",
            "[[-0.49522748]]\n",
            "[[-0.69164161]]\n",
            "[[-0.40969486]]\n",
            "[[0.31300666]]\n",
            "[[-0.55449934]]\n",
            "[[-0.26219135]]\n",
            "[[0.46641868]]\n",
            "[[-0.93608794]]\n",
            "[[-0.36898859]]\n",
            "[[0.19123873]]\n",
            "[[0.39718197]]\n",
            "[[-0.95172616]]\n",
            "[[-0.57582809]]\n",
            "[[-0.37288395]]\n",
            "[[0.76070378]]\n",
            "[[-0.64723365]]\n",
            "[[0.06588439]]\n",
            "[[-0.50259681]]\n",
            "[[0.04776302]]\n",
            "[[0.72744273]]\n",
            "[[-0.87549088]]\n",
            "[[-0.6453651]]\n",
            "[[-0.77779545]]\n",
            "[[0.73324392]]\n",
            "[[0.87670568]]\n",
            "[[-0.52112946]]\n",
            "[[0.63478874]]\n",
            "[[-0.64965182]]\n",
            "[[-0.42723662]]\n",
            "[[-0.53908674]]\n",
            "[[0.1158638]]\n",
            "[[0.01671365]]\n",
            "1.1598545717611541e-09\n"
          ],
          "name": "stdout"
        }
      ]
    },
    {
      "cell_type": "code",
      "metadata": {
        "id": "xDIfwNpdr-7F",
        "colab_type": "code",
        "colab": {
          "base_uri": "https://localhost:8080/",
          "height": 34
        },
        "outputId": "1dab5b84-b2c1-42e0-c1eb-b082fc4a6c02"
      },
      "source": [
        "print(i)"
      ],
      "execution_count": 276,
      "outputs": [
        {
          "output_type": "stream",
          "text": [
            "80\n"
          ],
          "name": "stdout"
        }
      ]
    },
    {
      "cell_type": "code",
      "metadata": {
        "id": "frQM2LIJwDNM",
        "colab_type": "code",
        "colab": {
          "base_uri": "https://localhost:8080/",
          "height": 34
        },
        "outputId": "99df9375-c370-4462-fbdc-f809a3329df5"
      },
      "source": [
        "print(w)"
      ],
      "execution_count": 277,
      "outputs": [
        {
          "output_type": "stream",
          "text": [
            "[[-0.99992124 -0.01953597]]\n"
          ],
          "name": "stdout"
        }
      ]
    },
    {
      "cell_type": "code",
      "metadata": {
        "id": "peCvCs4-4lvr",
        "colab_type": "code",
        "colab": {
          "base_uri": "https://localhost:8080/",
          "height": 34
        },
        "outputId": "79e5a557-b904-4700-a584-368ee5b09192"
      },
      "source": [
        "w_save = np.array(w_save)\n",
        "print(w_save.shape)"
      ],
      "execution_count": 283,
      "outputs": [
        {
          "output_type": "stream",
          "text": [
            "(79, 1, 2)\n"
          ],
          "name": "stdout"
        }
      ]
    },
    {
      "cell_type": "code",
      "metadata": {
        "id": "YQoUePMSxW0R",
        "colab_type": "code",
        "colab": {
          "base_uri": "https://localhost:8080/",
          "height": 269
        },
        "outputId": "ef6d5bc1-b8d9-4a8b-ed35-86c4152de98e"
      },
      "source": [
        "plt.plot(datos[:, 0], datos[:, 1] , '*')\n",
        "plt.plot(w[0][0] *2, w[0][1] * 2, 'o')\n",
        "plt.plot(w_save[0][:, 0], w_save[0][:, 1], '.')\n",
        "plt.axis('equal')\n",
        "plt.show()"
      ],
      "execution_count": 278,
      "outputs": [
        {
          "output_type": "display_data",
          "data": {
            "image/png": "[encoded data removed]",
            "text/plain": [
              "<Figure size 432x288 with 1 Axes>"
            ]
          },
          "metadata": {
            "tags": []
          }
        }
      ]
    }
  ]
}