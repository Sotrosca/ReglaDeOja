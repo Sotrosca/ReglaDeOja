{
  "nbformat": 4,
  "nbformat_minor": 0,
  "metadata": {
    "colab": {
      "name": "Untitled3.ipynb",
      "version": "0.3.2",
      "provenance": [],
      "include_colab_link": true
    },
    "kernelspec": {
      "name": "python3",
      "display_name": "Python 3"
    }
  },
  "cells": [
    {
      "cell_type": "markdown",
      "metadata": {
        "id": "view-in-github",
        "colab_type": "text"
      },
      "source": [
        "<a href=\"https://colab.research.google.com/github/Sotrosca/ReglaDeOja/blob/master/regla_de_oja.ipynb\" target=\"_parent\"><img src=\"https://colab.research.google.com/assets/colab-badge.svg\" alt=\"Open In Colab\"/></a>"
      ]
    },
    {
      "cell_type": "code",
      "metadata": {
        "id": "1LLe2x2YeP2g",
        "colab_type": "code",
        "colab": {}
      },
      "source": [
        "import numpy as np\n",
        "import matplotlib.pyplot as plt"
      ],
      "execution_count": 0,
      "outputs": []
    },
    {
      "cell_type": "code",
      "metadata": {
        "id": "0OKW5dfCiV8P",
        "colab_type": "code",
        "colab": {
          "base_uri": "https://localhost:8080/",
          "height": 269
        },
        "outputId": "1e41e7d2-510a-4f9e-d8d8-5917176ad2de"
      },
      "source": [
        "datosEjeX = np.random.rand(1, 400) * 2 - 1\n",
        "datosEjeY = np.random.rand(1, 400) / 1000 - (0.5/1000)\n",
        "datos = []\n",
        "for i in range(datosEjeX.shape[1]):\n",
        "  datos.append([datosEjeX[0][i], datosEjeY[0][i]])\n",
        "  \n",
        "datos = np.array(datos)\n",
        "\n",
        "plt.plot(datos[:, 0], datos[:, 1] , '*')\n",
        "plt.show()\n"
      ],
      "execution_count": 181,
      "outputs": [
        {
          "output_type": "display_data",
          "data": {
            "image/png": "[encoded data removed]",
            "text/plain": [
              "<Figure size 432x288 with 1 Axes>"
            ]
          },
          "metadata": {
            "tags": []
          }
        }
      ]
    },
    {
      "cell_type": "code",
      "metadata": {
        "id": "mQlNieJyjDRa",
        "colab_type": "code",
        "colab": {}
      },
      "source": [
        "\n",
        "\n",
        "learningRate = 0.1\n",
        "\n",
        "epsilon = 0.0000001"
      ],
      "execution_count": 0,
      "outputs": []
    },
    {
      "cell_type": "code",
      "metadata": {
        "id": "crT5tzn1mbXX",
        "colab_type": "code",
        "colab": {}
      },
      "source": [
        "def train():\n",
        "    w = np.random.rand(1, 2) * 2 - 1\n",
        "    i = 1\n",
        "    for dato in datos:\n",
        "      dato = dato[:, np.newaxis]\n",
        "      output = np.dot(w, dato)\n",
        "      print(output)\n",
        "\n",
        "      w_aux = w\n",
        "\n",
        "      w = w + learningRate * output[0][0] * (dato.T - output[0][0] * w)\n",
        "\n",
        "      i = i + 1\n",
        "      \n",
        "      if (abs(np.mean(w_aux - w))  < epsilon):\n",
        "        print(abs(np.mean(w_aux - w))) \n",
        "        return w, i;"
      ],
      "execution_count": 0,
      "outputs": []
    },
    {
      "cell_type": "code",
      "metadata": {
        "id": "Lu4irgG-orf4",
        "colab_type": "code",
        "colab": {
          "base_uri": "https://localhost:8080/",
          "height": 4272
        },
        "outputId": "4109a382-28b8-4ae5-a404-0a68207705f4"
      },
      "source": [
        "w, i = train()"
      ],
      "execution_count": 223,
      "outputs": [
        {
          "output_type": "stream",
          "text": [
            "[[0.14433398]]\n",
            "[[0.14059646]]\n",
            "[[0.21178884]]\n",
            "[[-0.23818746]]\n",
            "[[0.24260826]]\n",
            "[[-0.25715906]]\n",
            "[[0.26288342]]\n",
            "[[-0.10568176]]\n",
            "[[-0.33837556]]\n",
            "[[-0.28552375]]\n",
            "[[0.12592827]]\n",
            "[[-0.20540577]]\n",
            "[[0.15306367]]\n",
            "[[-0.06920681]]\n",
            "[[0.33462678]]\n",
            "[[0.06010371]]\n",
            "[[-0.42341433]]\n",
            "[[-0.35465]]\n",
            "[[0.40232234]]\n",
            "[[0.49003441]]\n",
            "[[-0.52138034]]\n",
            "[[0.37173976]]\n",
            "[[-0.29207124]]\n",
            "[[-0.4681253]]\n",
            "[[-0.57121286]]\n",
            "[[-0.41760288]]\n",
            "[[-0.12620033]]\n",
            "[[0.00149889]]\n",
            "[[0.35339187]]\n",
            "[[0.05334632]]\n",
            "[[0.267467]]\n",
            "[[0.55725108]]\n",
            "[[-0.65129284]]\n",
            "[[0.48417553]]\n",
            "[[-0.73541582]]\n",
            "[[-0.68345206]]\n",
            "[[0.57097873]]\n",
            "[[-0.74279195]]\n",
            "[[0.58936266]]\n",
            "[[0.33163667]]\n",
            "[[0.25720672]]\n",
            "[[-0.61184229]]\n",
            "[[-0.40956078]]\n",
            "[[0.13736038]]\n",
            "[[0.78996441]]\n",
            "[[0.52912052]]\n",
            "[[0.04294358]]\n",
            "[[-0.44664425]]\n",
            "[[-0.62672478]]\n",
            "[[-0.37452721]]\n",
            "[[0.28701351]]\n",
            "[[-0.50892394]]\n",
            "[[-0.24184118]]\n",
            "[[0.43062701]]\n",
            "[[-0.8673054]]\n",
            "[[-0.34605832]]\n",
            "[[0.17957036]]\n",
            "[[0.37321636]]\n",
            "[[-0.89605341]]\n",
            "[[-0.54772605]]\n",
            "[[-0.35572317]]\n",
            "[[0.72681515]]\n",
            "[[-0.62146578]]\n",
            "[[0.06345955]]\n",
            "[[-0.48412347]]\n",
            "[[0.0461177]]\n",
            "[[0.70218162]]\n",
            "[[-0.84815406]]\n",
            "[[-0.62803766]]\n",
            "[[-0.75875494]]\n",
            "[[0.71740151]]\n",
            "[[0.85961915]]\n",
            "[[-0.51242566]]\n",
            "[[0.62493245]]\n",
            "[[-0.64027905]]\n",
            "[[-0.42160645]]\n",
            "[[-0.53223879]]\n",
            "[[0.1144397]]\n",
            "[[0.01645968]]\n",
            "[[0.12898519]]\n",
            "[[0.38569706]]\n",
            "[[-0.09225845]]\n",
            "[[0.66746262]]\n",
            "[[-0.77823881]]\n",
            "[[-0.10765622]]\n",
            "[[0.14717304]]\n",
            "[[0.95930984]]\n",
            "[[0.25672457]]\n",
            "[[0.67107679]]\n",
            "[[-0.41427293]]\n",
            "[[0.97898319]]\n",
            "[[0.95389223]]\n",
            "[[-0.32155474]]\n",
            "[[0.91422479]]\n",
            "[[-0.57840364]]\n",
            "[[0.84055128]]\n",
            "[[0.51126124]]\n",
            "[[-0.54700475]]\n",
            "[[-0.60761708]]\n",
            "[[-0.34157101]]\n",
            "[[-0.45113634]]\n",
            "[[0.74878468]]\n",
            "[[-0.80425771]]\n",
            "[[-0.11574499]]\n",
            "[[0.39733873]]\n",
            "[[0.20190987]]\n",
            "[[-0.18988962]]\n",
            "[[-0.27414349]]\n",
            "[[0.31995095]]\n",
            "[[-0.10380495]]\n",
            "[[0.30657558]]\n",
            "[[0.39289157]]\n",
            "[[0.05893313]]\n",
            "[[0.96808792]]\n",
            "[[-0.39731042]]\n",
            "[[0.49174201]]\n",
            "[[0.79283703]]\n",
            "[[-0.20737394]]\n",
            "[[0.98847434]]\n",
            "[[0.19012038]]\n",
            "[[-0.72681237]]\n",
            "[[0.49629516]]\n",
            "[[0.30713946]]\n",
            "[[0.05715076]]\n",
            "[[0.2089042]]\n",
            "[[0.8516525]]\n",
            "[[-0.7369605]]\n",
            "[[0.75833726]]\n",
            "[[0.01250067]]\n",
            "[[-0.15417332]]\n",
            "[[0.17705742]]\n",
            "[[-0.34688453]]\n",
            "[[0.73344795]]\n",
            "[[-0.47251957]]\n",
            "[[0.87076225]]\n",
            "[[0.74988163]]\n",
            "[[-0.94008539]]\n",
            "[[-0.68740826]]\n",
            "[[-0.60427926]]\n",
            "[[-0.86112387]]\n",
            "[[0.09557822]]\n",
            "[[0.24317291]]\n",
            "[[0.61171142]]\n",
            "[[0.4322551]]\n",
            "[[-0.39016434]]\n",
            "[[0.8694778]]\n",
            "[[-0.88885512]]\n",
            "[[-0.47255431]]\n",
            "[[-0.67058254]]\n",
            "[[0.22400483]]\n",
            "[[-0.78378628]]\n",
            "[[-0.63009819]]\n",
            "[[-0.78431321]]\n",
            "[[-0.39617344]]\n",
            "[[-0.53852888]]\n",
            "[[0.43105739]]\n",
            "[[0.20939282]]\n",
            "[[-0.12293204]]\n",
            "[[0.94930872]]\n",
            "[[-0.40635104]]\n",
            "[[0.87657443]]\n",
            "[[-0.27641676]]\n",
            "[[0.35099022]]\n",
            "[[-0.22919971]]\n",
            "[[0.2256546]]\n",
            "[[0.74728684]]\n",
            "[[0.08607725]]\n",
            "[[0.70522287]]\n",
            "[[-0.34031318]]\n",
            "[[-0.87562133]]\n",
            "[[-0.56001901]]\n",
            "[[0.80683323]]\n",
            "[[-0.18400296]]\n",
            "[[-0.19084784]]\n",
            "[[-0.31637793]]\n",
            "[[0.32070491]]\n",
            "[[0.37783418]]\n",
            "[[0.10480961]]\n",
            "[[-0.81016269]]\n",
            "[[-0.38084015]]\n",
            "[[-0.61507828]]\n",
            "[[-0.51782029]]\n",
            "[[-0.36095879]]\n",
            "[[0.31012561]]\n",
            "[[0.96666143]]\n",
            "[[0.14033993]]\n",
            "[[-0.14608944]]\n",
            "[[0.4545718]]\n",
            "[[-0.78058868]]\n",
            "[[0.28149649]]\n",
            "[[0.83313108]]\n",
            "[[-0.10145971]]\n",
            "[[0.29078267]]\n",
            "[[-0.14429275]]\n",
            "[[-0.88298763]]\n",
            "[[0.74016695]]\n",
            "[[0.51947138]]\n",
            "[[0.12810765]]\n",
            "[[0.17731787]]\n",
            "[[0.83027878]]\n",
            "[[-0.60891609]]\n",
            "[[0.90391298]]\n",
            "[[-0.723004]]\n",
            "[[0.35167047]]\n",
            "[[0.96635566]]\n",
            "[[-0.2812865]]\n",
            "[[-0.79331813]]\n",
            "[[-0.80786101]]\n",
            "[[0.75456397]]\n",
            "[[-0.26553716]]\n",
            "[[-0.220178]]\n",
            "[[0.91837582]]\n",
            "[[-0.93870033]]\n",
            "[[-0.31849025]]\n",
            "[[-0.46366896]]\n",
            "[[-0.79332687]]\n",
            "[[0.14721151]]\n",
            "[[0.07628606]]\n",
            "[[0.48636927]]\n",
            "[[-0.42132335]]\n",
            "[[0.21640422]]\n",
            "[[0.14633609]]\n",
            "[[-0.24320895]]\n",
            "[[-0.0810168]]\n",
            "[[0.95832075]]\n",
            "[[0.28008977]]\n",
            "[[-0.17827726]]\n",
            "[[0.51207694]]\n",
            "[[-0.75721741]]\n",
            "[[-0.93801436]]\n",
            "[[-0.69186181]]\n",
            "[[0.42449631]]\n",
            "[[0.23433262]]\n",
            "[[-0.06785883]]\n",
            "[[-0.48954673]]\n",
            "[[-0.69990925]]\n",
            "[[-0.76045489]]\n",
            "[[0.34411989]]\n",
            "[[-0.63919724]]\n",
            "[[-0.36849043]]\n",
            "[[0.51591924]]\n",
            "[[-0.88015757]]\n",
            "[[0.77949707]]\n",
            "[[0.25962208]]\n",
            "7.289439136223645e-08\n"
          ],
          "name": "stdout"
        }
      ]
    },
    {
      "cell_type": "code",
      "metadata": {
        "id": "xDIfwNpdr-7F",
        "colab_type": "code",
        "colab": {
          "base_uri": "https://localhost:8080/",
          "height": 34
        },
        "outputId": "5232bb1d-3a23-491d-aebd-89accec89090"
      },
      "source": [
        "print(i)"
      ],
      "execution_count": 224,
      "outputs": [
        {
          "output_type": "stream",
          "text": [
            "245\n"
          ],
          "name": "stdout"
        }
      ]
    },
    {
      "cell_type": "code",
      "metadata": {
        "id": "frQM2LIJwDNM",
        "colab_type": "code",
        "colab": {
          "base_uri": "https://localhost:8080/",
          "height": 34
        },
        "outputId": "9a55d7af-28f2-4f59-f257-7c7e069163cc"
      },
      "source": [
        "print(w)"
      ],
      "execution_count": 225,
      "outputs": [
        {
          "output_type": "stream",
          "text": [
            "[[-9.99999887e-01  5.37538597e-04]]\n"
          ],
          "name": "stdout"
        }
      ]
    },
    {
      "cell_type": "code",
      "metadata": {
        "id": "YQoUePMSxW0R",
        "colab_type": "code",
        "colab": {
          "base_uri": "https://localhost:8080/",
          "height": 269
        },
        "outputId": "1f2b44de-beea-46f0-f9fe-9fa82afcba28"
      },
      "source": [
        "plt.plot(datos[:, 0], datos[:, 1] , '*')\n",
        "plt.plot(w[0][0] *2, w[0][1] * 2, 'o')\n",
        "plt.axis('equal')\n",
        "plt.show()"
      ],
      "execution_count": 231,
      "outputs": [
        {
          "output_type": "display_data",
          "data": {
            "image/png": "[encoded data removed]",
            "text/plain": [
              "<Figure size 432x288 with 1 Axes>"
            ]
          },
          "metadata": {
            "tags": []
          }
        }
      ]
    }
  ]
}